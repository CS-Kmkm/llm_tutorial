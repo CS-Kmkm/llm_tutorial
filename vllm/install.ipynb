{
 "cells": [
  {
   "cell_type": "markdown",
   "id": "022ef241",
   "metadata": {},
   "source": [
    "# Install vLLM"
   ]
  },
  {
   "cell_type": "markdown",
   "id": "a478c0a0",
   "metadata": {},
   "source": [
    "### Install vLLM with CUDA 11.8"
   ]
  },
  {
   "cell_type": "code",
   "execution_count": null,
   "id": "99f9c49f",
   "metadata": {
    "vscode": {
     "languageId": "plaintext"
    }
   },
   "outputs": [],
   "source": [
    "export VLLM_VERSION=0.6.1.post1\n",
    "export PYTHON_VERSION=310\n",
    "pip install https://github.com/vllm-project/vllm/releases/download/v${VLLM_VERSION}/vllm-${VLLM_VERSION}+cu118-cp${PYTHON_VERSION}-cp${PYTHON_VERSION}-manylinux1_x86_64.whl --extra-index-url https://download.pytorch.org/whl/cu118"
   ]
  },
  {
   "cell_type": "markdown",
   "id": "23d7d60c",
   "metadata": {},
   "source": [
    "### CUDA 12\n",
    "（公式では最新バージョンはCUDA 12.6に合わせているが、12.5(GPU6号機)とかでも動く）\n",
    "（何らなCUDA11.8のはずのGPU5号機でも動く）"
   ]
  },
  {
   "cell_type": "code",
   "execution_count": null,
   "id": "2dfc3df9",
   "metadata": {
    "vscode": {
     "languageId": "plaintext"
    }
   },
   "outputs": [],
   "source": [
    "pip install vllm"
   ]
  }
 ],
 "metadata": {
  "language_info": {
   "name": "python"
  }
 },
 "nbformat": 4,
 "nbformat_minor": 5
}
